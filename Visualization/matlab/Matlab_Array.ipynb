{
 "cells": [
  {
   "cell_type": "markdown",
   "id": "b91a19c3-fb97-4bc3-8ad9-ab7ab57da129",
   "metadata": {
    "tags": []
   },
   "source": [
    "# Import Dependencies #"
   ]
  },
  {
   "cell_type": "code",
   "execution_count": 10,
   "id": "50237a6f-2b13-4704-82f6-910dc9ad880b",
   "metadata": {
    "tags": []
   },
   "outputs": [],
   "source": [
    "import matplotlib.pyplot as plt\n",
    "import numpy as np\n",
    "import csv\n",
    "import pandas as pd"
   ]
  },
  {
   "cell_type": "markdown",
   "id": "90894dfe-ede7-4ccf-a8ba-af29108ee8a1",
   "metadata": {},
   "source": [
    "# boxplot #"
   ]
  },
  {
   "cell_type": "code",
   "execution_count": 12,
   "id": "49d463f2-d62c-487a-93f6-6588ed38da81",
   "metadata": {},
   "outputs": [],
   "source": [
    "np.random.seed(10)\n",
    "boxplot = np.random.normal((3, 5, 4), (1.25, 1.00, 1.25), (100, 3))"
   ]
  },
  {
   "cell_type": "markdown",
   "id": "ff5dae89-2a47-42bd-9dea-f038eba6f081",
   "metadata": {
    "tags": []
   },
   "source": [
    "# ecdf #"
   ]
  },
  {
   "cell_type": "code",
   "execution_count": 13,
   "id": "52b7f7b9-96e2-4a6b-85e0-444f13f13672",
   "metadata": {},
   "outputs": [],
   "source": [
    "np.random.seed(1)\n",
    "ecdf = 4 + np.random.normal(0, 1.5, 200)"
   ]
  },
  {
   "cell_type": "code",
   "execution_count": null,
   "id": "5dd4d672-86f5-4b3f-b8b3-378f24160a70",
   "metadata": {},
   "outputs": [],
   "source": [
    "errorbar"
   ]
  },
  {
   "cell_type": "code",
   "execution_count": null,
   "id": "48a04547-446d-4901-88be-f15db053bc16",
   "metadata": {},
   "outputs": [],
   "source": []
  },
  {
   "cell_type": "markdown",
   "id": "fbc3bf2d-a724-43e0-8e00-d43058af70b5",
   "metadata": {},
   "source": [
    "# Eventplot #"
   ]
  },
  {
   "cell_type": "code",
   "execution_count": null,
   "id": "5aa93ecc-b97e-43e4-a093-62a5135208fc",
   "metadata": {},
   "outputs": [],
   "source": [
    "np.random.seed(1)\n",
    "x = [2, 4, 6]\n",
    "Eventplot = np.random.gamma(4, size=(3, 50))"
   ]
  },
  {
   "cell_type": "code",
   "execution_count": null,
   "id": "80184e50-4f03-4723-a77e-579802cc2ff6",
   "metadata": {},
   "outputs": [],
   "source": [
    "# make data:\n",
    "#Error bar\n",
    "np.random.seed(1)\n",
    "x = [2, 4, 6]\n",
    "y = [3.6, 5, 4.2]\n",
    "yerr = [0.9, 1.2, 0.5]\n",
    "\n"
   ]
  },
  {
   "cell_type": "code",
   "execution_count": null,
   "id": "f7ae01d2-4a75-4aa0-9a07-05ae981319f2",
   "metadata": {},
   "outputs": [],
   "source": [
    "# make data\n",
    "# Pie\n",
    "x = [1, 2, 3, 4]\n",
    "colors = plt.get_cmap('Blues')(np.linspace(0.2, 0.7, len(x)))"
   ]
  },
  {
   "cell_type": "code",
   "execution_count": null,
   "id": "3c480f5d-0af4-4882-9bdd-d6be0d64811b",
   "metadata": {},
   "outputs": [],
   "source": [
    "# make data:\n",
    "#violinplot\n",
    "np.random.seed(10)\n",
    "D = np.random.normal((3, 5, 4), (0.75, 1.00, 0.75), (200, 3))"
   ]
  },
  {
   "cell_type": "code",
   "execution_count": null,
   "id": "7aa41256-7ef0-47c2-9f16-b7f13f2f41a3",
   "metadata": {},
   "outputs": [],
   "source": [
    "# make data\n",
    "# hist\n",
    "np.random.seed(1)\n",
    "x = 4 + np.random.normal(0, 1.5, 200)"
   ]
  },
  {
   "cell_type": "code",
   "execution_count": null,
   "id": "9f5b5dcd-122b-4fee-aadd-1b882ba8a8a6",
   "metadata": {
    "tags": []
   },
   "outputs": [],
   "source": [
    "# make data: correlated + noise\n",
    "#hexbin, hist2d\n",
    "np.random.seed(1)\n",
    "x = np.random.randn(5000)\n",
    "y = 1.2 * x + np.random.randn(5000) / 3"
   ]
  },
  {
   "cell_type": "code",
   "execution_count": 3,
   "id": "1fd39a0d-7b52-4c9b-848d-77db3fd49836",
   "metadata": {},
   "outputs": [
    {
     "name": "stdout",
     "output_type": "stream",
     "text": [
      "Data has been written to matlab_array.csv\n"
     ]
    }
   ],
   "source": [
    "# Specify the file name\n",
    "csv_file_name = 'matlab_array.csv'\n",
    "\n",
    "# Open the file in write mode with 'newline' parameter to avoid extra line breaks\n",
    "with open(csv_file_name, 'w', newline='') as csv_file:\n",
    "    # Create a CSV writer object\n",
    "    csv_writer = csv.writer(csv_file)\n",
    "\n",
    "    # Write the data to the CSV file\n",
    "    csv_writer.writerows(D)\n",
    "\n",
    "print(f'Data has been written to {csv_file_name}')"
   ]
  }
 ],
 "metadata": {
  "kernelspec": {
   "display_name": "Python 3 (ipykernel)",
   "language": "python",
   "name": "python3"
  },
  "language_info": {
   "codemirror_mode": {
    "name": "ipython",
    "version": 3
   },
   "file_extension": ".py",
   "mimetype": "text/x-python",
   "name": "python",
   "nbconvert_exporter": "python",
   "pygments_lexer": "ipython3",
   "version": "3.9.13"
  }
 },
 "nbformat": 4,
 "nbformat_minor": 5
}
