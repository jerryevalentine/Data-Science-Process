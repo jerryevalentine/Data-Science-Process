{
 "cells": [
  {
   "cell_type": "markdown",
   "id": "5fb0de97-ca31-48bd-b896-ba4b36090e9b",
   "metadata": {},
   "source": [
    "## Advanced Analysis ##"
   ]
  },
  {
   "cell_type": "code",
   "execution_count": null,
   "id": "54b2dc85-a91f-444b-a325-05d19ee505b6",
   "metadata": {},
   "outputs": [],
   "source": []
  }
 ],
 "metadata": {
  "kernelspec": {
   "display_name": "Python 3 (ipykernel)",
   "language": "python",
   "name": "python3"
  },
  "language_info": {
   "codemirror_mode": {
    "name": "ipython",
    "version": 3
   },
   "file_extension": ".py",
   "mimetype": "text/x-python",
   "name": "python",
   "nbconvert_exporter": "python",
   "pygments_lexer": "ipython3",
   "version": "3.9.13"
  }
 },
 "nbformat": 4,
 "nbformat_minor": 5
}
