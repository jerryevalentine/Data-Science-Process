{
 "cells": [
  {
   "cell_type": "markdown",
   "id": "7ec2a2bb-7833-4f10-b226-cfc52f677f45",
   "metadata": {},
   "source": [
    "# Statistical Methods #"
   ]
  },
  {
   "cell_type": "code",
   "execution_count": null,
   "id": "2aa328dc",
   "metadata": {},
   "outputs": [],
   "source": [
    "\"\"\" Statistical Methods\n",
    "    sum()\n",
    "    Sum values of each object.\n",
    "    count()\n",
    "    Count non-NA/null values of\n",
    "    each object.\n",
    "    median()\n",
    "    Median value of each object.\n",
    "    quantile([0.25,0.75])\n",
    "    Quantiles of each object.\n",
    "    apply(function)\n",
    "    Apply function to each object.\n",
    "    min()\n",
    "    Minimum value in each object.\n",
    "    max()\n",
    "    Maximum value in each object.\n",
    "    mean()\n",
    "    Mean value of each object.\n",
    "    var()\n",
    "    Variance of each object.\n",
    "    std()\n",
    "    Standard deviation of each object.\n",
    "\"\"\""
   ]
  },
  {
   "cell_type": "markdown",
   "id": "a2a650bd-aff5-4db7-8ffc-19b9946b21d7",
   "metadata": {},
   "source": [
    "# Import Data and Libraries #"
   ]
  },
  {
   "cell_type": "code",
   "execution_count": 5,
   "id": "0806e72c",
   "metadata": {},
   "outputs": [
    {
     "data": {
      "text/html": [
       "<div>\n",
       "<style scoped>\n",
       "    .dataframe tbody tr th:only-of-type {\n",
       "        vertical-align: middle;\n",
       "    }\n",
       "\n",
       "    .dataframe tbody tr th {\n",
       "        vertical-align: top;\n",
       "    }\n",
       "\n",
       "    .dataframe thead th {\n",
       "        text-align: right;\n",
       "    }\n",
       "</style>\n",
       "<table border=\"1\" class=\"dataframe\">\n",
       "  <thead>\n",
       "    <tr style=\"text-align: right;\">\n",
       "      <th></th>\n",
       "      <th>a</th>\n",
       "      <th>b</th>\n",
       "      <th>c</th>\n",
       "    </tr>\n",
       "  </thead>\n",
       "  <tbody>\n",
       "    <tr>\n",
       "      <th>1</th>\n",
       "      <td>4</td>\n",
       "      <td>7</td>\n",
       "      <td>10</td>\n",
       "    </tr>\n",
       "    <tr>\n",
       "      <th>2</th>\n",
       "      <td>5</td>\n",
       "      <td>8</td>\n",
       "      <td>11</td>\n",
       "    </tr>\n",
       "    <tr>\n",
       "      <th>3</th>\n",
       "      <td>6</td>\n",
       "      <td>9</td>\n",
       "      <td>12</td>\n",
       "    </tr>\n",
       "  </tbody>\n",
       "</table>\n",
       "</div>"
      ],
      "text/plain": [
       "   a  b   c\n",
       "1  4  7  10\n",
       "2  5  8  11\n",
       "3  6  9  12"
      ]
     },
     "metadata": {},
     "output_type": "display_data"
    },
    {
     "data": {
      "text/html": [
       "<div>\n",
       "<style scoped>\n",
       "    .dataframe tbody tr th:only-of-type {\n",
       "        vertical-align: middle;\n",
       "    }\n",
       "\n",
       "    .dataframe tbody tr th {\n",
       "        vertical-align: top;\n",
       "    }\n",
       "\n",
       "    .dataframe thead th {\n",
       "        text-align: right;\n",
       "    }\n",
       "</style>\n",
       "<table border=\"1\" class=\"dataframe\">\n",
       "  <thead>\n",
       "    <tr style=\"text-align: right;\">\n",
       "      <th></th>\n",
       "      <th>ISBN</th>\n",
       "      <th>Title</th>\n",
       "      <th>Other Titles</th>\n",
       "      <th>Author</th>\n",
       "      <th>All Names</th>\n",
       "      <th>Country of Publication</th>\n",
       "      <th>Place of Publication</th>\n",
       "      <th>Publisher</th>\n",
       "      <th>Publication Year</th>\n",
       "    </tr>\n",
       "  </thead>\n",
       "  <tbody>\n",
       "    <tr>\n",
       "      <th>0</th>\n",
       "      <td>9780930193904</td>\n",
       "      <td>#$@&amp;! : the official Lloyd Llewellyn collection</td>\n",
       "      <td>Official Lloyd Llewellyn collection</td>\n",
       "      <td>Clowes, Daniel</td>\n",
       "      <td>Clowes, Daniel [person]</td>\n",
       "      <td>England ; United States of America</td>\n",
       "      <td>London ; Seattle, Washington</td>\n",
       "      <td>Fantagraphics ; Turnaround</td>\n",
       "      <td>1997</td>\n",
       "    </tr>\n",
       "    <tr>\n",
       "      <th>1</th>\n",
       "      <td>9780992664220</td>\n",
       "      <td>#WhatDoYouSee? : a graphic novel anthology of ...</td>\n",
       "      <td>NaN</td>\n",
       "      <td>NaN</td>\n",
       "      <td>Fulfilling Lives (Programme) [organisation]</td>\n",
       "      <td>England</td>\n",
       "      <td>Newcastle upon Tyne</td>\n",
       "      <td>Roots &amp; Wings</td>\n",
       "      <td>2018</td>\n",
       "    </tr>\n",
       "    <tr>\n",
       "      <th>2</th>\n",
       "      <td>9781302903299</td>\n",
       "      <td>#takebacktheshield</td>\n",
       "      <td>NaN</td>\n",
       "      <td>Spencer, Nick</td>\n",
       "      <td>Spencer, Nick, author [person]</td>\n",
       "      <td>United States of America</td>\n",
       "      <td>New York</td>\n",
       "      <td>Marvel Worldwide</td>\n",
       "      <td>2017</td>\n",
       "    </tr>\n",
       "    <tr>\n",
       "      <th>3</th>\n",
       "      <td>9781607065166</td>\n",
       "      <td>'68. Volume 1. Better run through the jungle</td>\n",
       "      <td>Better run through the jungle</td>\n",
       "      <td>Kidwell, Mark</td>\n",
       "      <td>Fotos, Jay [person] ; Jones, Nat, 1976- [perso...</td>\n",
       "      <td>United States of America</td>\n",
       "      <td>Berkeley, California</td>\n",
       "      <td>Image Comics</td>\n",
       "      <td>2012</td>\n",
       "    </tr>\n",
       "    <tr>\n",
       "      <th>4</th>\n",
       "      <td>9781600107672</td>\n",
       "      <td>'Bots of science</td>\n",
       "      <td>Trans formers ; Trans formers animated : bots ...</td>\n",
       "      <td>Bryant, Megan E.</td>\n",
       "      <td>Robbins, Robbie [person] ; Boo, 1981- [person]...</td>\n",
       "      <td>United States of America</td>\n",
       "      <td>San Diego, California</td>\n",
       "      <td>NaN</td>\n",
       "      <td>2010</td>\n",
       "    </tr>\n",
       "  </tbody>\n",
       "</table>\n",
       "</div>"
      ],
      "text/plain": [
       "            ISBN                                              Title  \\\n",
       "0  9780930193904    #$@&! : the official Lloyd Llewellyn collection   \n",
       "1  9780992664220  #WhatDoYouSee? : a graphic novel anthology of ...   \n",
       "2  9781302903299                                 #takebacktheshield   \n",
       "3  9781607065166       '68. Volume 1. Better run through the jungle   \n",
       "4  9781600107672                                   'Bots of science   \n",
       "\n",
       "                                        Other Titles            Author  \\\n",
       "0                Official Lloyd Llewellyn collection    Clowes, Daniel   \n",
       "1                                                NaN               NaN   \n",
       "2                                                NaN     Spencer, Nick   \n",
       "3                      Better run through the jungle     Kidwell, Mark   \n",
       "4  Trans formers ; Trans formers animated : bots ...  Bryant, Megan E.   \n",
       "\n",
       "                                           All Names  \\\n",
       "0                            Clowes, Daniel [person]   \n",
       "1        Fulfilling Lives (Programme) [organisation]   \n",
       "2                     Spencer, Nick, author [person]   \n",
       "3  Fotos, Jay [person] ; Jones, Nat, 1976- [perso...   \n",
       "4  Robbins, Robbie [person] ; Boo, 1981- [person]...   \n",
       "\n",
       "               Country of Publication          Place of Publication  \\\n",
       "0  England ; United States of America  London ; Seattle, Washington   \n",
       "1                             England           Newcastle upon Tyne   \n",
       "2            United States of America                      New York   \n",
       "3            United States of America          Berkeley, California   \n",
       "4            United States of America         San Diego, California   \n",
       "\n",
       "                    Publisher  Publication Year  \n",
       "0  Fantagraphics ; Turnaround              1997  \n",
       "1               Roots & Wings              2018  \n",
       "2            Marvel Worldwide              2017  \n",
       "3                Image Comics              2012  \n",
       "4                         NaN              2010  "
      ]
     },
     "metadata": {},
     "output_type": "display_data"
    }
   ],
   "source": [
    "import pandas as pd\n",
    "import os\n",
    "import csv\n",
    "\n",
    "df = pd.DataFrame(\n",
    "{\"a\" : [4, 5, 6],\n",
    "\"b\" : [7, 8, 9],\n",
    "\"c\" : [10, 11, 12]},\n",
    "index = [1, 2, 3])\n",
    "display(df)\n",
    "\n",
    "# File to Load\n",
    "file_path = os.path.join('../Resources', 'books_clean.csv')\n",
    "# Read the modified Comic Books csv and store into Pandas DataFrame\n",
    "df1 = pd.read_csv(file_path)\n",
    "display(df1.head())\n"
   ]
  },
  {
   "cell_type": "code",
   "execution_count": 12,
   "id": "5902015e",
   "metadata": {},
   "outputs": [
    {
     "data": {
      "text/plain": [
       "3"
      ]
     },
     "execution_count": 12,
     "metadata": {},
     "output_type": "execute_result"
    }
   ],
   "source": [
    "## of rows in DataFrame.\n",
    "len(df)"
   ]
  },
  {
   "cell_type": "code",
   "execution_count": 13,
   "id": "5640178f",
   "metadata": {},
   "outputs": [
    {
     "data": {
      "text/plain": [
       "(3, 3)"
      ]
     },
     "execution_count": 13,
     "metadata": {},
     "output_type": "execute_result"
    }
   ],
   "source": [
    "#Tuple of # of rows, # of columns in DataFrame.\n",
    "df.shape"
   ]
  },
  {
   "cell_type": "code",
   "execution_count": 15,
   "id": "b6fbf643",
   "metadata": {},
   "outputs": [
    {
     "data": {
      "text/plain": [
       "3"
      ]
     },
     "execution_count": 15,
     "metadata": {},
     "output_type": "execute_result"
    }
   ],
   "source": [
    "# of distinct values in a column.\n",
    "df['a'].nunique()"
   ]
  },
  {
   "cell_type": "code",
   "execution_count": 16,
   "id": "eab72aab",
   "metadata": {},
   "outputs": [
    {
     "data": {
      "text/html": [
       "<div>\n",
       "<style scoped>\n",
       "    .dataframe tbody tr th:only-of-type {\n",
       "        vertical-align: middle;\n",
       "    }\n",
       "\n",
       "    .dataframe tbody tr th {\n",
       "        vertical-align: top;\n",
       "    }\n",
       "\n",
       "    .dataframe thead th {\n",
       "        text-align: right;\n",
       "    }\n",
       "</style>\n",
       "<table border=\"1\" class=\"dataframe\">\n",
       "  <thead>\n",
       "    <tr style=\"text-align: right;\">\n",
       "      <th></th>\n",
       "      <th>a</th>\n",
       "      <th>b</th>\n",
       "      <th>c</th>\n",
       "    </tr>\n",
       "  </thead>\n",
       "  <tbody>\n",
       "    <tr>\n",
       "      <th>count</th>\n",
       "      <td>3.0</td>\n",
       "      <td>3.0</td>\n",
       "      <td>3.0</td>\n",
       "    </tr>\n",
       "    <tr>\n",
       "      <th>mean</th>\n",
       "      <td>5.0</td>\n",
       "      <td>8.0</td>\n",
       "      <td>11.0</td>\n",
       "    </tr>\n",
       "    <tr>\n",
       "      <th>std</th>\n",
       "      <td>1.0</td>\n",
       "      <td>1.0</td>\n",
       "      <td>1.0</td>\n",
       "    </tr>\n",
       "    <tr>\n",
       "      <th>min</th>\n",
       "      <td>4.0</td>\n",
       "      <td>7.0</td>\n",
       "      <td>10.0</td>\n",
       "    </tr>\n",
       "    <tr>\n",
       "      <th>25%</th>\n",
       "      <td>4.5</td>\n",
       "      <td>7.5</td>\n",
       "      <td>10.5</td>\n",
       "    </tr>\n",
       "    <tr>\n",
       "      <th>50%</th>\n",
       "      <td>5.0</td>\n",
       "      <td>8.0</td>\n",
       "      <td>11.0</td>\n",
       "    </tr>\n",
       "    <tr>\n",
       "      <th>75%</th>\n",
       "      <td>5.5</td>\n",
       "      <td>8.5</td>\n",
       "      <td>11.5</td>\n",
       "    </tr>\n",
       "    <tr>\n",
       "      <th>max</th>\n",
       "      <td>6.0</td>\n",
       "      <td>9.0</td>\n",
       "      <td>12.0</td>\n",
       "    </tr>\n",
       "  </tbody>\n",
       "</table>\n",
       "</div>"
      ],
      "text/plain": [
       "         a    b     c\n",
       "count  3.0  3.0   3.0\n",
       "mean   5.0  8.0  11.0\n",
       "std    1.0  1.0   1.0\n",
       "min    4.0  7.0  10.0\n",
       "25%    4.5  7.5  10.5\n",
       "50%    5.0  8.0  11.0\n",
       "75%    5.5  8.5  11.5\n",
       "max    6.0  9.0  12.0"
      ]
     },
     "execution_count": 16,
     "metadata": {},
     "output_type": "execute_result"
    }
   ],
   "source": [
    "#Basic descriptive and statistics for each column (or GroupBy).\n",
    "df.describe()"
   ]
  },
  {
   "cell_type": "code",
   "execution_count": 17,
   "id": "5dd406d0",
   "metadata": {},
   "outputs": [
    {
     "data": {
      "text/plain": [
       "a    15\n",
       "b    24\n",
       "c    33\n",
       "dtype: int64"
      ]
     },
     "execution_count": 17,
     "metadata": {},
     "output_type": "execute_result"
    }
   ],
   "source": [
    "df.sum()"
   ]
  },
  {
   "cell_type": "code",
   "execution_count": null,
   "id": "ee0de712",
   "metadata": {},
   "outputs": [],
   "source": [
    "df.min()"
   ]
  },
  {
   "cell_type": "code",
   "execution_count": null,
   "id": "3ec3e20f",
   "metadata": {},
   "outputs": [],
   "source": [
    "# Calculate the number of unique authors in the DataFrame\n",
    "print(df1['Author'].nunique())"
   ]
  },
  {
   "cell_type": "code",
   "execution_count": null,
   "id": "94d04a69",
   "metadata": {},
   "outputs": [],
   "source": [
    "# Calculate the number of unique publication countries in the DataFrame\n",
    "print(df1['ISBN'].nunique())"
   ]
  },
  {
   "cell_type": "code",
   "execution_count": null,
   "id": "b80732ce",
   "metadata": {},
   "outputs": [],
   "source": [
    "# Print the number of unique authors and countries. \n",
    "print(df1['Country of Publication'].nunique())"
   ]
  },
  {
   "cell_type": "code",
   "execution_count": null,
   "id": "cfe94cf9",
   "metadata": {},
   "outputs": [],
   "source": [
    "# Calculate the earliest/latest year a book was published\n",
    "df1['Publication Year'].min()\n",
    "df1['Publication Year'].max()"
   ]
  },
  {
   "cell_type": "code",
   "execution_count": null,
   "id": "f37a7156",
   "metadata": {},
   "outputs": [],
   "source": []
  },
  {
   "cell_type": "code",
   "execution_count": 18,
   "id": "3189598b",
   "metadata": {
    "scrolled": true
   },
   "outputs": [
    {
     "data": {
      "text/plain": [
       "a     4\n",
       "b     7\n",
       "c    10\n",
       "dtype: int64"
      ]
     },
     "execution_count": 18,
     "metadata": {},
     "output_type": "execute_result"
    }
   ],
   "source": []
  }
 ],
 "metadata": {
  "kernelspec": {
   "display_name": "Python 3 (ipykernel)",
   "language": "python",
   "name": "python3"
  },
  "language_info": {
   "codemirror_mode": {
    "name": "ipython",
    "version": 3
   },
   "file_extension": ".py",
   "mimetype": "text/x-python",
   "name": "python",
   "nbconvert_exporter": "python",
   "pygments_lexer": "ipython3",
   "version": "3.9.13"
  }
 },
 "nbformat": 4,
 "nbformat_minor": 5
}
