{
 "cells": [
  {
   "cell_type": "markdown",
   "id": "721a6b23-54bd-4545-a7eb-08e0b62250af",
   "metadata": {},
   "source": [
    "# Problem Statement #\n"
   ]
  },
  {
   "cell_type": "markdown",
   "id": "d2462a40-ca0e-43af-93c6-bb81db348cbb",
   "metadata": {},
   "source": [
    "## Who is the analysis for? ##"
   ]
  },
  {
   "cell_type": "code",
   "execution_count": null,
   "id": "bc88e46c-d212-4935-9461-96f51204cb80",
   "metadata": {},
   "outputs": [],
   "source": [
    "# What is the goal? #"
   ]
  },
  {
   "cell_type": "markdown",
   "id": "a52d3616-a2c5-46c1-8431-4d5db17375cd",
   "metadata": {},
   "source": [
    "## What is the reason for the analysis? ##\n"
   ]
  }
 ],
 "metadata": {
  "kernelspec": {
   "display_name": "Python 3 (ipykernel)",
   "language": "python",
   "name": "python3"
  },
  "language_info": {
   "codemirror_mode": {
    "name": "ipython",
    "version": 3
   },
   "file_extension": ".py",
   "mimetype": "text/x-python",
   "name": "python",
   "nbconvert_exporter": "python",
   "pygments_lexer": "ipython3",
   "version": "3.9.13"
  }
 },
 "nbformat": 4,
 "nbformat_minor": 5
}
